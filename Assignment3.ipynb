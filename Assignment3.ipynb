{
  "nbformat": 4,
  "nbformat_minor": 0,
  "metadata": {
    "colab": {
      "provenance": [],
      "toc_visible": true,
      "authorship_tag": "ABX9TyNOmHSRX2UJxZ+cHCp4+kzM",
      "include_colab_link": true
    },
    "kernelspec": {
      "name": "python3",
      "display_name": "Python 3"
    },
    "language_info": {
      "name": "python"
    }
  },
  "cells": [
    {
      "cell_type": "markdown",
      "metadata": {
        "id": "view-in-github",
        "colab_type": "text"
      },
      "source": [
        "<a href=\"https://colab.research.google.com/github/mamun48/Deep-Learning-Assignments/blob/main/Assignment3.ipynb\" target=\"_parent\"><img src=\"https://colab.research.google.com/assets/colab-badge.svg\" alt=\"Open In Colab\"/></a>"
      ]
    },
    {
      "cell_type": "markdown",
      "source": [
        "# import libraries"
      ],
      "metadata": {
        "id": "rIqCuvuHeTBH"
      }
    },
    {
      "cell_type": "code",
      "execution_count": 1,
      "metadata": {
        "id": "aRvBwfeUqE_m"
      },
      "outputs": [],
      "source": [
        "import tensorflow as tf\n",
        "import numpy as np\n",
        "import matplotlib.pyplot as plt"
      ]
    },
    {
      "cell_type": "markdown",
      "source": [
        "# Generate data"
      ],
      "metadata": {
        "id": "qFdPFFJgesQR"
      }
    },
    {
      "cell_type": "code",
      "source": [
        "np.random.seed(0)\n",
        "x_data = np.random.uniform(-20, 20, 1000)\n",
        "y_data = 5 * x_data**3 - 8 * x_data**2 - 7 * x_data + 1 + np.random.normal(0, 500, 1000)"
      ],
      "metadata": {
        "id": "qSAE3rNfezRZ"
      },
      "execution_count": 2,
      "outputs": []
    },
    {
      "cell_type": "markdown",
      "source": [
        "# Normalize data"
      ],
      "metadata": {
        "id": "Yoc7NoDajrJB"
      }
    },
    {
      "cell_type": "code",
      "source": [
        "x_data_normalized = (x_data - np.min(x_data)) / (np.max(x_data) - np.min(x_data)) * 2 - 1\n"
      ],
      "metadata": {
        "id": "GF8OJ2I4jur7"
      },
      "execution_count": 3,
      "outputs": []
    },
    {
      "cell_type": "markdown",
      "source": [
        "# Split data"
      ],
      "metadata": {
        "id": "TTvztTQFj1XQ"
      }
    },
    {
      "cell_type": "code",
      "source": [
        "train_size = int(0.9 * len(x_data_normalized))\n",
        "val_size = int(0.05 * len(x_data_normalized))\n",
        "test_size = len(x_data_normalized) - train_size - val_size\n",
        "\n",
        "x_train = x_data_normalized[:train_size]\n",
        "y_train = y_data[:train_size]\n",
        "\n",
        "x_val = x_data_normalized[train_size:train_size + val_size]\n",
        "y_val = y_data[train_size:train_size + val_size]\n",
        "\n",
        "x_test = x_data_normalized[train_size + val_size:]\n",
        "y_test = y_data[train_size + val_size:]\n"
      ],
      "metadata": {
        "id": "sgFvagohj4Kp"
      },
      "execution_count": 4,
      "outputs": []
    },
    {
      "cell_type": "markdown",
      "source": [
        "# Define model"
      ],
      "metadata": {
        "id": "uf08U_Hcj5Y3"
      }
    },
    {
      "cell_type": "code",
      "source": [
        "model = tf.keras.Sequential([\n",
        "    tf.keras.layers.Dense(32, activation='relu', input_shape=(1,)),\n",
        "    tf.keras.layers.Dense(64, activation='relu'),\n",
        "    tf.keras.layers.Dense(128, activation='relu'),\n",
        "    tf.keras.layers.Dense(1)\n",
        "])\n"
      ],
      "metadata": {
        "id": "RxXtmHFlj_X9"
      },
      "execution_count": 5,
      "outputs": []
    },
    {
      "cell_type": "markdown",
      "source": [
        "# Display model summary"
      ],
      "metadata": {
        "id": "0vzyFzyqkEG9"
      }
    },
    {
      "cell_type": "code",
      "source": [
        "model.summary()"
      ],
      "metadata": {
        "colab": {
          "base_uri": "https://localhost:8080/"
        },
        "id": "40yci2N4kIio",
        "outputId": "e1464c93-2552-44f9-b4de-80861ae8e5c7"
      },
      "execution_count": 6,
      "outputs": [
        {
          "output_type": "stream",
          "name": "stdout",
          "text": [
            "Model: \"sequential\"\n",
            "_________________________________________________________________\n",
            " Layer (type)                Output Shape              Param #   \n",
            "=================================================================\n",
            " dense (Dense)               (None, 32)                64        \n",
            "                                                                 \n",
            " dense_1 (Dense)             (None, 64)                2112      \n",
            "                                                                 \n",
            " dense_2 (Dense)             (None, 128)               8320      \n",
            "                                                                 \n",
            " dense_3 (Dense)             (None, 1)                 129       \n",
            "                                                                 \n",
            "=================================================================\n",
            "Total params: 10625 (41.50 KB)\n",
            "Trainable params: 10625 (41.50 KB)\n",
            "Non-trainable params: 0 (0.00 Byte)\n",
            "_________________________________________________________________\n"
          ]
        }
      ]
    },
    {
      "cell_type": "markdown",
      "source": [
        "# Compile the model"
      ],
      "metadata": {
        "id": "Brs8ZglhkOgl"
      }
    },
    {
      "cell_type": "code",
      "source": [
        "model.compile(optimizer='adam', loss='mean_squared_error', metrics=['accuracy'])\n"
      ],
      "metadata": {
        "id": "J8WIrTYekUSc"
      },
      "execution_count": 7,
      "outputs": []
    },
    {
      "cell_type": "markdown",
      "source": [
        "# Train the model"
      ],
      "metadata": {
        "id": "Pc5yIPnPkXAW"
      }
    },
    {
      "cell_type": "code",
      "source": [
        "history = model.fit(x_train, y_train, epochs=100, batch_size=32, validation_data=(x_val, y_val), verbose=1)\n"
      ],
      "metadata": {
        "colab": {
          "base_uri": "https://localhost:8080/"
        },
        "id": "mtwVk5AjkZok",
        "outputId": "2a54c4ea-0f92-443a-8e35-83be8ec0b4e1"
      },
      "execution_count": 8,
      "outputs": [
        {
          "output_type": "stream",
          "name": "stdout",
          "text": [
            "Epoch 1/100\n",
            "29/29 [==============================] - 1s 14ms/step - loss: 235698064.0000 - accuracy: 0.0000e+00 - val_loss: 219965200.0000 - val_accuracy: 0.0000e+00\n",
            "Epoch 2/100\n",
            "29/29 [==============================] - 0s 6ms/step - loss: 235649568.0000 - accuracy: 0.0000e+00 - val_loss: 219867456.0000 - val_accuracy: 0.0000e+00\n",
            "Epoch 3/100\n",
            "29/29 [==============================] - 0s 4ms/step - loss: 235467792.0000 - accuracy: 0.0000e+00 - val_loss: 219520608.0000 - val_accuracy: 0.0000e+00\n",
            "Epoch 4/100\n",
            "29/29 [==============================] - 0s 4ms/step - loss: 234907568.0000 - accuracy: 0.0000e+00 - val_loss: 218536832.0000 - val_accuracy: 0.0000e+00\n",
            "Epoch 5/100\n",
            "29/29 [==============================] - 0s 5ms/step - loss: 233456064.0000 - accuracy: 0.0000e+00 - val_loss: 216276400.0000 - val_accuracy: 0.0000e+00\n",
            "Epoch 6/100\n",
            "29/29 [==============================] - 0s 5ms/step - loss: 230474144.0000 - accuracy: 0.0000e+00 - val_loss: 211894224.0000 - val_accuracy: 0.0000e+00\n",
            "Epoch 7/100\n",
            "29/29 [==============================] - 0s 5ms/step - loss: 224917168.0000 - accuracy: 0.0000e+00 - val_loss: 203934064.0000 - val_accuracy: 0.0000e+00\n",
            "Epoch 8/100\n",
            "29/29 [==============================] - 0s 5ms/step - loss: 215761856.0000 - accuracy: 0.0000e+00 - val_loss: 191813920.0000 - val_accuracy: 0.0000e+00\n",
            "Epoch 9/100\n",
            "29/29 [==============================] - 0s 5ms/step - loss: 202217040.0000 - accuracy: 0.0000e+00 - val_loss: 174800400.0000 - val_accuracy: 0.0000e+00\n",
            "Epoch 10/100\n",
            "29/29 [==============================] - 0s 5ms/step - loss: 183739456.0000 - accuracy: 0.0000e+00 - val_loss: 152397520.0000 - val_accuracy: 0.0000e+00\n",
            "Epoch 11/100\n",
            "29/29 [==============================] - 0s 3ms/step - loss: 161466880.0000 - accuracy: 0.0000e+00 - val_loss: 126878712.0000 - val_accuracy: 0.0000e+00\n",
            "Epoch 12/100\n",
            "29/29 [==============================] - 0s 3ms/step - loss: 135089632.0000 - accuracy: 0.0000e+00 - val_loss: 101289152.0000 - val_accuracy: 0.0000e+00\n",
            "Epoch 13/100\n",
            "29/29 [==============================] - 0s 4ms/step - loss: 110303704.0000 - accuracy: 0.0000e+00 - val_loss: 76944736.0000 - val_accuracy: 0.0000e+00\n",
            "Epoch 14/100\n",
            "29/29 [==============================] - 0s 4ms/step - loss: 88225048.0000 - accuracy: 0.0000e+00 - val_loss: 58948912.0000 - val_accuracy: 0.0000e+00\n",
            "Epoch 15/100\n",
            "29/29 [==============================] - 0s 4ms/step - loss: 70037136.0000 - accuracy: 0.0000e+00 - val_loss: 46954732.0000 - val_accuracy: 0.0000e+00\n",
            "Epoch 16/100\n",
            "29/29 [==============================] - 0s 5ms/step - loss: 57431204.0000 - accuracy: 0.0000e+00 - val_loss: 40131708.0000 - val_accuracy: 0.0000e+00\n",
            "Epoch 17/100\n",
            "29/29 [==============================] - 0s 5ms/step - loss: 49745368.0000 - accuracy: 0.0000e+00 - val_loss: 36800360.0000 - val_accuracy: 0.0000e+00\n",
            "Epoch 18/100\n",
            "29/29 [==============================] - 0s 5ms/step - loss: 45096104.0000 - accuracy: 0.0000e+00 - val_loss: 35563652.0000 - val_accuracy: 0.0000e+00\n",
            "Epoch 19/100\n",
            "29/29 [==============================] - 0s 3ms/step - loss: 42363876.0000 - accuracy: 0.0000e+00 - val_loss: 34858104.0000 - val_accuracy: 0.0000e+00\n",
            "Epoch 20/100\n",
            "29/29 [==============================] - 0s 4ms/step - loss: 40813252.0000 - accuracy: 0.0000e+00 - val_loss: 34750580.0000 - val_accuracy: 0.0000e+00\n",
            "Epoch 21/100\n",
            "29/29 [==============================] - 0s 4ms/step - loss: 39807272.0000 - accuracy: 0.0000e+00 - val_loss: 34560144.0000 - val_accuracy: 0.0000e+00\n",
            "Epoch 22/100\n",
            "29/29 [==============================] - 0s 3ms/step - loss: 39071788.0000 - accuracy: 0.0000e+00 - val_loss: 34038960.0000 - val_accuracy: 0.0000e+00\n",
            "Epoch 23/100\n",
            "29/29 [==============================] - 0s 4ms/step - loss: 38463480.0000 - accuracy: 0.0000e+00 - val_loss: 34101300.0000 - val_accuracy: 0.0000e+00\n",
            "Epoch 24/100\n",
            "29/29 [==============================] - 0s 3ms/step - loss: 38151392.0000 - accuracy: 0.0000e+00 - val_loss: 33950676.0000 - val_accuracy: 0.0000e+00\n",
            "Epoch 25/100\n",
            "29/29 [==============================] - 0s 3ms/step - loss: 38015680.0000 - accuracy: 0.0000e+00 - val_loss: 34242108.0000 - val_accuracy: 0.0000e+00\n",
            "Epoch 26/100\n",
            "29/29 [==============================] - 0s 4ms/step - loss: 37803868.0000 - accuracy: 0.0000e+00 - val_loss: 34134476.0000 - val_accuracy: 0.0000e+00\n",
            "Epoch 27/100\n",
            "29/29 [==============================] - 0s 3ms/step - loss: 37758408.0000 - accuracy: 0.0000e+00 - val_loss: 34275232.0000 - val_accuracy: 0.0000e+00\n",
            "Epoch 28/100\n",
            "29/29 [==============================] - 0s 3ms/step - loss: 37683292.0000 - accuracy: 0.0000e+00 - val_loss: 34296052.0000 - val_accuracy: 0.0000e+00\n",
            "Epoch 29/100\n",
            "29/29 [==============================] - 0s 3ms/step - loss: 37574164.0000 - accuracy: 0.0000e+00 - val_loss: 34247312.0000 - val_accuracy: 0.0000e+00\n",
            "Epoch 30/100\n",
            "29/29 [==============================] - 0s 3ms/step - loss: 37552084.0000 - accuracy: 0.0000e+00 - val_loss: 34253100.0000 - val_accuracy: 0.0000e+00\n",
            "Epoch 31/100\n",
            "29/29 [==============================] - 0s 3ms/step - loss: 37619620.0000 - accuracy: 0.0000e+00 - val_loss: 34495972.0000 - val_accuracy: 0.0000e+00\n",
            "Epoch 32/100\n",
            "29/29 [==============================] - 0s 3ms/step - loss: 37631332.0000 - accuracy: 0.0000e+00 - val_loss: 34059032.0000 - val_accuracy: 0.0000e+00\n",
            "Epoch 33/100\n",
            "29/29 [==============================] - 0s 4ms/step - loss: 37690412.0000 - accuracy: 0.0000e+00 - val_loss: 34234180.0000 - val_accuracy: 0.0000e+00\n",
            "Epoch 34/100\n",
            "29/29 [==============================] - 0s 3ms/step - loss: 37551564.0000 - accuracy: 0.0000e+00 - val_loss: 34355904.0000 - val_accuracy: 0.0000e+00\n",
            "Epoch 35/100\n",
            "29/29 [==============================] - 0s 3ms/step - loss: 37606184.0000 - accuracy: 0.0000e+00 - val_loss: 34477708.0000 - val_accuracy: 0.0000e+00\n",
            "Epoch 36/100\n",
            "29/29 [==============================] - 0s 4ms/step - loss: 37491348.0000 - accuracy: 0.0000e+00 - val_loss: 34556284.0000 - val_accuracy: 0.0000e+00\n",
            "Epoch 37/100\n",
            "29/29 [==============================] - 0s 3ms/step - loss: 37490908.0000 - accuracy: 0.0000e+00 - val_loss: 34204960.0000 - val_accuracy: 0.0000e+00\n",
            "Epoch 38/100\n",
            "29/29 [==============================] - 0s 3ms/step - loss: 37438504.0000 - accuracy: 0.0000e+00 - val_loss: 34223748.0000 - val_accuracy: 0.0000e+00\n",
            "Epoch 39/100\n",
            "29/29 [==============================] - 0s 3ms/step - loss: 37471532.0000 - accuracy: 0.0000e+00 - val_loss: 34159656.0000 - val_accuracy: 0.0000e+00\n",
            "Epoch 40/100\n",
            "29/29 [==============================] - 0s 4ms/step - loss: 37493208.0000 - accuracy: 0.0000e+00 - val_loss: 34135904.0000 - val_accuracy: 0.0000e+00\n",
            "Epoch 41/100\n",
            "29/29 [==============================] - 0s 3ms/step - loss: 37380968.0000 - accuracy: 0.0000e+00 - val_loss: 34040792.0000 - val_accuracy: 0.0000e+00\n",
            "Epoch 42/100\n",
            "29/29 [==============================] - 0s 6ms/step - loss: 37440060.0000 - accuracy: 0.0000e+00 - val_loss: 34061736.0000 - val_accuracy: 0.0000e+00\n",
            "Epoch 43/100\n",
            "29/29 [==============================] - 0s 4ms/step - loss: 37343620.0000 - accuracy: 0.0000e+00 - val_loss: 34409396.0000 - val_accuracy: 0.0000e+00\n",
            "Epoch 44/100\n",
            "29/29 [==============================] - 0s 4ms/step - loss: 37266220.0000 - accuracy: 0.0000e+00 - val_loss: 34127876.0000 - val_accuracy: 0.0000e+00\n",
            "Epoch 45/100\n",
            "29/29 [==============================] - 0s 5ms/step - loss: 37286904.0000 - accuracy: 0.0000e+00 - val_loss: 34068208.0000 - val_accuracy: 0.0000e+00\n",
            "Epoch 46/100\n",
            "29/29 [==============================] - 0s 5ms/step - loss: 37271296.0000 - accuracy: 0.0000e+00 - val_loss: 34064436.0000 - val_accuracy: 0.0000e+00\n",
            "Epoch 47/100\n",
            "29/29 [==============================] - 0s 4ms/step - loss: 37209756.0000 - accuracy: 0.0000e+00 - val_loss: 34060712.0000 - val_accuracy: 0.0000e+00\n",
            "Epoch 48/100\n",
            "29/29 [==============================] - 0s 5ms/step - loss: 37216936.0000 - accuracy: 0.0000e+00 - val_loss: 33939236.0000 - val_accuracy: 0.0000e+00\n",
            "Epoch 49/100\n",
            "29/29 [==============================] - 0s 5ms/step - loss: 37218868.0000 - accuracy: 0.0000e+00 - val_loss: 33988036.0000 - val_accuracy: 0.0000e+00\n",
            "Epoch 50/100\n",
            "29/29 [==============================] - 0s 4ms/step - loss: 37245884.0000 - accuracy: 0.0000e+00 - val_loss: 33749756.0000 - val_accuracy: 0.0000e+00\n",
            "Epoch 51/100\n",
            "29/29 [==============================] - 0s 5ms/step - loss: 37249924.0000 - accuracy: 0.0000e+00 - val_loss: 34150132.0000 - val_accuracy: 0.0000e+00\n",
            "Epoch 52/100\n",
            "29/29 [==============================] - 0s 5ms/step - loss: 37183840.0000 - accuracy: 0.0000e+00 - val_loss: 33487078.0000 - val_accuracy: 0.0000e+00\n",
            "Epoch 53/100\n",
            "29/29 [==============================] - 0s 5ms/step - loss: 37143924.0000 - accuracy: 0.0000e+00 - val_loss: 33779396.0000 - val_accuracy: 0.0000e+00\n",
            "Epoch 54/100\n",
            "29/29 [==============================] - 0s 5ms/step - loss: 37093736.0000 - accuracy: 0.0000e+00 - val_loss: 34026336.0000 - val_accuracy: 0.0000e+00\n",
            "Epoch 55/100\n",
            "29/29 [==============================] - 0s 5ms/step - loss: 37152072.0000 - accuracy: 0.0000e+00 - val_loss: 34094148.0000 - val_accuracy: 0.0000e+00\n",
            "Epoch 56/100\n",
            "29/29 [==============================] - 0s 5ms/step - loss: 37216404.0000 - accuracy: 0.0000e+00 - val_loss: 33603920.0000 - val_accuracy: 0.0000e+00\n",
            "Epoch 57/100\n",
            "29/29 [==============================] - 0s 5ms/step - loss: 37021460.0000 - accuracy: 0.0000e+00 - val_loss: 33775152.0000 - val_accuracy: 0.0000e+00\n",
            "Epoch 58/100\n",
            "29/29 [==============================] - 0s 5ms/step - loss: 37188372.0000 - accuracy: 0.0000e+00 - val_loss: 33776720.0000 - val_accuracy: 0.0000e+00\n",
            "Epoch 59/100\n",
            "29/29 [==============================] - 0s 4ms/step - loss: 36948244.0000 - accuracy: 0.0000e+00 - val_loss: 33645252.0000 - val_accuracy: 0.0000e+00\n",
            "Epoch 60/100\n",
            "29/29 [==============================] - 0s 3ms/step - loss: 36896316.0000 - accuracy: 0.0000e+00 - val_loss: 33402328.0000 - val_accuracy: 0.0000e+00\n",
            "Epoch 61/100\n",
            "29/29 [==============================] - 0s 3ms/step - loss: 36808340.0000 - accuracy: 0.0000e+00 - val_loss: 33574928.0000 - val_accuracy: 0.0000e+00\n",
            "Epoch 62/100\n",
            "29/29 [==============================] - 0s 4ms/step - loss: 36805216.0000 - accuracy: 0.0000e+00 - val_loss: 33469940.0000 - val_accuracy: 0.0000e+00\n",
            "Epoch 63/100\n",
            "29/29 [==============================] - 0s 3ms/step - loss: 36875096.0000 - accuracy: 0.0000e+00 - val_loss: 33227612.0000 - val_accuracy: 0.0000e+00\n",
            "Epoch 64/100\n",
            "29/29 [==============================] - 0s 4ms/step - loss: 36706324.0000 - accuracy: 0.0000e+00 - val_loss: 33495506.0000 - val_accuracy: 0.0000e+00\n",
            "Epoch 65/100\n",
            "29/29 [==============================] - 0s 4ms/step - loss: 36787800.0000 - accuracy: 0.0000e+00 - val_loss: 33459850.0000 - val_accuracy: 0.0000e+00\n",
            "Epoch 66/100\n",
            "29/29 [==============================] - 0s 4ms/step - loss: 36701336.0000 - accuracy: 0.0000e+00 - val_loss: 33093478.0000 - val_accuracy: 0.0000e+00\n",
            "Epoch 67/100\n",
            "29/29 [==============================] - 0s 3ms/step - loss: 36648788.0000 - accuracy: 0.0000e+00 - val_loss: 33279964.0000 - val_accuracy: 0.0000e+00\n",
            "Epoch 68/100\n",
            "29/29 [==============================] - 0s 3ms/step - loss: 36573808.0000 - accuracy: 0.0000e+00 - val_loss: 33381798.0000 - val_accuracy: 0.0000e+00\n",
            "Epoch 69/100\n",
            "29/29 [==============================] - 0s 3ms/step - loss: 36645288.0000 - accuracy: 0.0000e+00 - val_loss: 33050378.0000 - val_accuracy: 0.0000e+00\n",
            "Epoch 70/100\n",
            "29/29 [==============================] - 0s 3ms/step - loss: 36583632.0000 - accuracy: 0.0000e+00 - val_loss: 33158434.0000 - val_accuracy: 0.0000e+00\n",
            "Epoch 71/100\n",
            "29/29 [==============================] - 0s 3ms/step - loss: 36458060.0000 - accuracy: 0.0000e+00 - val_loss: 33040620.0000 - val_accuracy: 0.0000e+00\n",
            "Epoch 72/100\n",
            "29/29 [==============================] - 0s 3ms/step - loss: 36453536.0000 - accuracy: 0.0000e+00 - val_loss: 33023306.0000 - val_accuracy: 0.0000e+00\n",
            "Epoch 73/100\n",
            "29/29 [==============================] - 0s 3ms/step - loss: 36505572.0000 - accuracy: 0.0000e+00 - val_loss: 33011394.0000 - val_accuracy: 0.0000e+00\n",
            "Epoch 74/100\n",
            "29/29 [==============================] - 0s 3ms/step - loss: 36394608.0000 - accuracy: 0.0000e+00 - val_loss: 33330570.0000 - val_accuracy: 0.0000e+00\n",
            "Epoch 75/100\n",
            "29/29 [==============================] - 0s 3ms/step - loss: 36454096.0000 - accuracy: 0.0000e+00 - val_loss: 32991700.0000 - val_accuracy: 0.0000e+00\n",
            "Epoch 76/100\n",
            "29/29 [==============================] - 0s 3ms/step - loss: 36415740.0000 - accuracy: 0.0000e+00 - val_loss: 32784364.0000 - val_accuracy: 0.0000e+00\n",
            "Epoch 77/100\n",
            "29/29 [==============================] - 0s 3ms/step - loss: 36341308.0000 - accuracy: 0.0000e+00 - val_loss: 33131550.0000 - val_accuracy: 0.0000e+00\n",
            "Epoch 78/100\n",
            "29/29 [==============================] - 0s 3ms/step - loss: 36357760.0000 - accuracy: 0.0000e+00 - val_loss: 32752908.0000 - val_accuracy: 0.0000e+00\n",
            "Epoch 79/100\n",
            "29/29 [==============================] - 0s 4ms/step - loss: 36188700.0000 - accuracy: 0.0000e+00 - val_loss: 32574556.0000 - val_accuracy: 0.0000e+00\n",
            "Epoch 80/100\n",
            "29/29 [==============================] - 0s 4ms/step - loss: 36185308.0000 - accuracy: 0.0000e+00 - val_loss: 32690570.0000 - val_accuracy: 0.0000e+00\n",
            "Epoch 81/100\n",
            "29/29 [==============================] - 0s 3ms/step - loss: 36168196.0000 - accuracy: 0.0000e+00 - val_loss: 32976028.0000 - val_accuracy: 0.0000e+00\n",
            "Epoch 82/100\n",
            "29/29 [==============================] - 0s 3ms/step - loss: 36127392.0000 - accuracy: 0.0000e+00 - val_loss: 32681466.0000 - val_accuracy: 0.0000e+00\n",
            "Epoch 83/100\n",
            "29/29 [==============================] - 0s 3ms/step - loss: 36044184.0000 - accuracy: 0.0000e+00 - val_loss: 32727234.0000 - val_accuracy: 0.0000e+00\n",
            "Epoch 84/100\n",
            "29/29 [==============================] - 0s 4ms/step - loss: 36099028.0000 - accuracy: 0.0000e+00 - val_loss: 32851456.0000 - val_accuracy: 0.0000e+00\n",
            "Epoch 85/100\n",
            "29/29 [==============================] - 0s 4ms/step - loss: 36156724.0000 - accuracy: 0.0000e+00 - val_loss: 32588524.0000 - val_accuracy: 0.0000e+00\n",
            "Epoch 86/100\n",
            "29/29 [==============================] - 0s 3ms/step - loss: 35988808.0000 - accuracy: 0.0000e+00 - val_loss: 32218260.0000 - val_accuracy: 0.0000e+00\n",
            "Epoch 87/100\n",
            "29/29 [==============================] - 0s 3ms/step - loss: 35936652.0000 - accuracy: 0.0000e+00 - val_loss: 32520740.0000 - val_accuracy: 0.0000e+00\n",
            "Epoch 88/100\n",
            "29/29 [==============================] - 0s 4ms/step - loss: 36105536.0000 - accuracy: 0.0000e+00 - val_loss: 32584872.0000 - val_accuracy: 0.0000e+00\n",
            "Epoch 89/100\n",
            "29/29 [==============================] - 0s 4ms/step - loss: 35796800.0000 - accuracy: 0.0000e+00 - val_loss: 32378938.0000 - val_accuracy: 0.0000e+00\n",
            "Epoch 90/100\n",
            "29/29 [==============================] - 0s 3ms/step - loss: 35850260.0000 - accuracy: 0.0000e+00 - val_loss: 32286034.0000 - val_accuracy: 0.0000e+00\n",
            "Epoch 91/100\n",
            "29/29 [==============================] - 0s 3ms/step - loss: 35852060.0000 - accuracy: 0.0000e+00 - val_loss: 32272502.0000 - val_accuracy: 0.0000e+00\n",
            "Epoch 92/100\n",
            "29/29 [==============================] - 0s 3ms/step - loss: 35690136.0000 - accuracy: 0.0000e+00 - val_loss: 32284652.0000 - val_accuracy: 0.0000e+00\n",
            "Epoch 93/100\n",
            "29/29 [==============================] - 0s 3ms/step - loss: 35819180.0000 - accuracy: 0.0000e+00 - val_loss: 31846470.0000 - val_accuracy: 0.0000e+00\n",
            "Epoch 94/100\n",
            "29/29 [==============================] - 0s 3ms/step - loss: 35609544.0000 - accuracy: 0.0000e+00 - val_loss: 32070042.0000 - val_accuracy: 0.0000e+00\n",
            "Epoch 95/100\n",
            "29/29 [==============================] - 0s 4ms/step - loss: 35655592.0000 - accuracy: 0.0000e+00 - val_loss: 31984576.0000 - val_accuracy: 0.0000e+00\n",
            "Epoch 96/100\n",
            "29/29 [==============================] - 0s 3ms/step - loss: 35484356.0000 - accuracy: 0.0000e+00 - val_loss: 31997976.0000 - val_accuracy: 0.0000e+00\n",
            "Epoch 97/100\n",
            "29/29 [==============================] - 0s 3ms/step - loss: 35480920.0000 - accuracy: 0.0000e+00 - val_loss: 31845770.0000 - val_accuracy: 0.0000e+00\n",
            "Epoch 98/100\n",
            "29/29 [==============================] - 0s 4ms/step - loss: 35529652.0000 - accuracy: 0.0000e+00 - val_loss: 32096778.0000 - val_accuracy: 0.0000e+00\n",
            "Epoch 99/100\n",
            "29/29 [==============================] - 0s 4ms/step - loss: 35483588.0000 - accuracy: 0.0000e+00 - val_loss: 31840340.0000 - val_accuracy: 0.0000e+00\n",
            "Epoch 100/100\n",
            "29/29 [==============================] - 0s 4ms/step - loss: 35401292.0000 - accuracy: 0.0000e+00 - val_loss: 31706312.0000 - val_accuracy: 0.0000e+00\n"
          ]
        }
      ]
    },
    {
      "cell_type": "markdown",
      "source": [
        "# Plot Training and Validation Accuracy:"
      ],
      "metadata": {
        "id": "SjU_OCzJkadd"
      }
    },
    {
      "cell_type": "code",
      "source": [
        "plt.plot(history.history['accuracy'], label='Training Accuracy')\n",
        "plt.plot(history.history['val_accuracy'], label='Validation Accuracy')\n",
        "plt.xlabel('Epochs')\n",
        "plt.ylabel('Accuracy')\n",
        "plt.legend()\n",
        "plt.show()\n"
      ],
      "metadata": {
        "colab": {
          "base_uri": "https://localhost:8080/",
          "height": 449
        },
        "id": "dvXsmlUvkfaG",
        "outputId": "f242895c-f7b2-4b74-bfc4-fff7b72d8d23"
      },
      "execution_count": 9,
      "outputs": [
        {
          "output_type": "display_data",
          "data": {
            "text/plain": [
              "<Figure size 640x480 with 1 Axes>"
            ],
            "image/png": "[encoded data removed]"
          },
          "metadata": {}
        }
      ]
    },
    {
      "cell_type": "markdown",
      "source": [
        "# Plot Training and Validation Loss:"
      ],
      "metadata": {
        "id": "zADuSb9Tkj8N"
      }
    },
    {
      "cell_type": "code",
      "source": [
        "plt.plot(history.history['loss'], label='Training Loss')\n",
        "plt.plot(history.history['val_loss'], label='Validation Loss')\n",
        "plt.xlabel('Epochs')\n",
        "plt.ylabel('Loss')\n",
        "plt.legend()\n",
        "plt.show()\n"
      ],
      "metadata": {
        "colab": {
          "base_uri": "https://localhost:8080/",
          "height": 465
        },
        "id": "QigtzY6ikoUB",
        "outputId": "6728bc23-1238-40ad-ccf6-31efe68e4ba3"
      },
      "execution_count": 10,
      "outputs": [
        {
          "output_type": "display_data",
          "data": {
            "text/plain": [
              "<Figure size 640x480 with 1 Axes>"
            ],
            "image/png": "[encoded data removed]"
          },
          "metadata": {}
        }
      ]
    },
    {
      "cell_type": "markdown",
      "source": [
        "# Evaluate on Test Data:"
      ],
      "metadata": {
        "id": "SM9IBwaPkpFh"
      }
    },
    {
      "cell_type": "code",
      "source": [
        "test_loss, test_accuracy = model.evaluate(x_test, y_test)\n",
        "print(f'Test Loss: {test_loss}, Test Accuracy: {test_accuracy}')\n"
      ],
      "metadata": {
        "colab": {
          "base_uri": "https://localhost:8080/"
        },
        "id": "E1AYNCR9kuBX",
        "outputId": "b25dd607-7e2f-4910-c84c-7bddeb186ef2"
      },
      "execution_count": 11,
      "outputs": [
        {
          "output_type": "stream",
          "name": "stdout",
          "text": [
            "2/2 [==============================] - 0s 12ms/step - loss: 31295436.0000 - accuracy: 0.0000e+00\n",
            "Test Loss: 31295436.0, Test Accuracy: 0.0\n"
          ]
        }
      ]
    },
    {
      "cell_type": "markdown",
      "source": [
        "# Predict on Test Data:"
      ],
      "metadata": {
        "id": "mVSW3E-MkvkO"
      }
    },
    {
      "cell_type": "code",
      "source": [
        "y_pred = model.predict(x_test)\n"
      ],
      "metadata": {
        "colab": {
          "base_uri": "https://localhost:8080/"
        },
        "id": "L-5JCA0AkzIn",
        "outputId": "104028a0-dff8-4c2f-a89c-73706bbab837"
      },
      "execution_count": 12,
      "outputs": [
        {
          "output_type": "stream",
          "name": "stdout",
          "text": [
            "2/2 [==============================] - 0s 9ms/step\n"
          ]
        }
      ]
    },
    {
      "cell_type": "markdown",
      "source": [
        "# Display Prediction Accuracy vs True Levels:"
      ],
      "metadata": {
        "id": "T4FFMT6Dk17J"
      }
    },
    {
      "cell_type": "code",
      "source": [
        "plt.scatter(y_test, y_pred)\n",
        "plt.xlabel('True Levels')\n",
        "plt.ylabel('Predicted Levels')\n",
        "plt.title('Prediction Accuracy vs True Levels')\n",
        "plt.show()\n"
      ],
      "metadata": {
        "colab": {
          "base_uri": "https://localhost:8080/",
          "height": 472
        },
        "id": "eqvZ2p5bk6Xs",
        "outputId": "a50141e6-90d9-497c-e356-cb589fb745ef"
      },
      "execution_count": 13,
      "outputs": [
        {
          "output_type": "display_data",
          "data": {
            "text/plain": [
              "<Figure size 640x480 with 1 Axes>"
            ],
            "image/png": "[encoded data removed]"
          },
          "metadata": {}
        }
      ]
    }
  ]
}